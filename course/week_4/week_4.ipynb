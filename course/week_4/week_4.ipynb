{
 "cells": [
  {
   "cell_type": "markdown",
   "metadata": {},
   "source": [
    "# Week 4 "
   ]
  },
  {
   "cell_type": "markdown",
   "metadata": {},
   "source": [
    "### Dopants"
   ]
  },
  {
   "cell_type": "markdown",
   "metadata": {},
   "source": [
    "A dopant is a foreign atom that enters the lattice. This can be aciednetal, e.g. Nuclear fuel contains large concentrations of Fe cations due to the fuel pellets being heated on steel equitment, or it can be by design, e.g. Gadalidium doped ceria is a fuel cell material where Gd cations are added to improve the materials conductivity. "
   ]
  },
  {
   "cell_type": "markdown",
   "metadata": {},
   "source": [
    "<center>\n",
    "    <br>\n",
    "    <img src=\"./figures/Dopant.png\\\" width=\\\"400px\\\">\n",
    "    <i>Figure 1. A pictorial example of doped NaCl.</i>\n",
    "    <br>\n",
    "</center>"
   ]
  },
  {
   "cell_type": "markdown",
   "metadata": {},
   "source": [
    "Your task is to investigate how dopants affect the properties of Ca$F_2$. There are many things that you can consider;\n",
    "- The charge of the dopant\n",
    "- The mass / size of the dopant\n",
    "- The concentration of the dopant\n",
    "\n",
    "The defect module will help with adding the dopants. Due to the rapid diffusion of anions compared to cations it is pointless to consider anion impurities. Instead it is best to consider cation impurities on Ca sites. "
   ]
  },
  {
   "cell_type": "code",
   "execution_count": 1,
   "metadata": {
    "collapsed": true
   },
   "outputs": [],
   "source": [
    "import numpy as np\n",
    "import defect as defect"
   ]
  },
  {
   "cell_type": "code",
   "execution_count": 2,
   "metadata": {},
   "outputs": [],
   "source": [
    "# Read the METADISE input file\n",
    "data = defect.read(\"input.txt\")\n",
    "\n",
    "# Add a 10 % concentration of La3+ \n",
    "new_data = defect.dopant(data, \"LA\", 3.0, 10)\n",
    "\n",
    "# Write a METADISE file to folder La_10\n",
    "defect.write_output(new_data, \"La_10\")"
   ]
  },
  {
   "cell_type": "code",
   "execution_count": 3,
   "metadata": {
    "collapsed": true
   },
   "outputs": [],
   "source": [
    "# Read the METADISE input file\n",
    "data = defect.read(\"input.txt\")\n",
    "\n",
    "# Add a 10 % concentration of K+ \n",
    "new_data = defect.dopant(data, \"K\", 1.0, 10)\n",
    "\n",
    "# Write a METADISE file to folder K_10\n",
    "defect.write_output(new_data, \"K_10\")"
   ]
  },
  {
   "cell_type": "code",
   "execution_count": 4,
   "metadata": {
    "collapsed": true
   },
   "outputs": [],
   "source": [
    "# Read the METADISE input file\n",
    "data = defect.read(\"input.txt\")\n",
    "\n",
    "# Add a 10 % concentration of Sr2+ \n",
    "new_data = defect.dopant(data, \"SR\", 2.0, 10)\n",
    "\n",
    "# Write a METADISE file to folder Sr_10\n",
    "defect.write_output(new_data, \"Sr_10\")"
   ]
  },
  {
   "cell_type": "markdown",
   "metadata": {},
   "source": [
    "If this is left in then I ran out of time - You will need to alter the input file manually and add the potential model parameters for the dopant atom. The full list of parameters can be found in Dopants_Buckingham_Parameters.txt. Add the relevant ones in and run METADISE to generate the DL_POLY file. The defect module will automatically charge balance for you. \n",
    "\n",
    "It is now up to you to come up with some interesting questions and design simulations to answer them. "
   ]
  }
 ],
 "metadata": {
  "kernelspec": {
   "display_name": "Python 3",
   "language": "python",
   "name": "python3"
  },
  "language_info": {
   "codemirror_mode": {
    "name": "ipython",
    "version": 3
   },
   "file_extension": ".py",
   "mimetype": "text/x-python",
   "name": "python",
   "nbconvert_exporter": "python",
   "pygments_lexer": "ipython3",
   "version": "3.6.1"
  }
 },
 "nbformat": 4,
 "nbformat_minor": 2
}
