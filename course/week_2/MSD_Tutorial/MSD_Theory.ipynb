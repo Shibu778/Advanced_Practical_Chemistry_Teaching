{
 "cells": [
  {
   "cell_type": "code",
   "execution_count": 1,
   "metadata": {
    "collapsed": true
   },
   "outputs": [],
   "source": [
    "import numpy as np\n",
    "import matplotlib.pyplot as plt\n",
    "from scipy import stats\n",
    "import MSD as msd"
   ]
  },
  {
   "cell_type": "markdown",
   "metadata": {},
   "source": [
    "## Advanced Chemistry Practical Tutorial: Mean Squared Displacements\n",
    "\n",
    "Now that you understand how MD works, it is important to learn what we can actually use it for. Molecular dynamics is a fantastic tool to study the motion of the atoms in materials. Molecules in liquds, gases and solids do not stay in the same place and move constantly. Think about a drop of dye in a glass of water, as time passes the dye distributes throughout the water. This process is called diffusion and is common throughout nature.  \n",
    "\n",
    "Using the dye as an example, the motion of a dye molecule is not simple. As it moves it is jostled by collisions with other molecules, preventing it from moving in a straight path. If the path is examined in close detail, it will be seen to be a good approximation to a random walk. In mathmatics a random walk is a series of steps, each taken in a random direction. This was analysed by Albert Einstein in a study of Brownian motion and he showed that the mean square of the distance travelled by a particle following a random walk is proportional to the time elapsed. \n",
    "\\begin{align}\n",
    "\\Big \\langle r^2 \\big \\rangle & = 6 D_t + C \n",
    "\\end{align}\n",
    "\n",
    "where $\\Big \\langle r^2 \\big \\rangle$ is the mean squared distance, t is time, D is the diffusion rate and C is a constant. \n",
    "\n",
    "### What is the mean squared displacement\n",
    "\n",
    "Going back to the example of the dye in water, lets assume for the sake of simplicity that we are in one dimension. Each step can either be forwards or backwards and we cannot predict which. From a given starting position, what distance is our dye molecule likely to travel after 1000 steps? This can be determined simply by adding together the steps, taking into account the fact that steps backwards subtract from the total, while steps forward add to the total. Since both forward and backward steps are equally probable, we come to the surprising conclusion that the probable distance travelled sums up to zero.\n",
    "\n",
    "By adding the square of the distance we will always be adding positive numbers to our total which now increases linearly with time. Based upon equation 1 it should now be clear that a plot of $\\Big \\langle r^2 \\big \\rangle$ vs time with produce a line, the gradient of which is equal to 6D. Giving us direct access to the diffusion coefficient of the system. \n",
    "\n",
    "Lets try explore this with an example. Run a short DL_POLY simulation on the input files provided. "
   ]
  },
  {
   "cell_type": "markdown",
   "metadata": {},
   "source": [
    "You will a small MSD program called MSD.py to analyse your simulation results. First you need to read in the data, the HISTORY file contains a list of the atomic coordiantes held by the atoms during the simulation. "
   ]
  },
  {
   "cell_type": "code",
   "execution_count": 2,
   "metadata": {
    "collapsed": true
   },
   "outputs": [],
   "source": [
    "# Read in the HISTORY file\n",
    "data = msd.read_history(\"HISTORY\", \"F\")"
   ]
  },
  {
   "cell_type": "markdown",
   "metadata": {},
   "source": [
    "data is a dictionary variable containing the atomic trajectories, lattice vectors, total number of atoms, and total number of timesteps. \n",
    "\n",
    "data = {'trajectories':trajectories, 'lv':lv, 'timesteps':timesteps, 'natoms':natoms}\n",
    "\n",
    "The next step is to calculate the MSD. "
   ]
  },
  {
   "cell_type": "code",
   "execution_count": 3,
   "metadata": {
    "collapsed": true
   },
   "outputs": [],
   "source": [
    "# Run the MSD calculation\n",
    "msd_data = msd.run_msd(data)"
   ]
  },
  {
   "cell_type": "markdown",
   "metadata": {},
   "source": [
    "run_msd returns a dictionary containing the total MSD, the dimensional MSD values and the time. \n",
    "msd_data = {'msd': msd, 'xmsd': xmsd, 'ymsd': ymsd, 'zmsd': zmsd, 'time': time}\n",
    "\n",
    "This can then be plotted to give a nice linear relationship. "
   ]
  },
  {
   "cell_type": "code",
   "execution_count": 4,
   "metadata": {},
   "outputs": [
    {
     "data": {
      "image/png": "[encoded data removed]",
      "text/plain": [
       "<matplotlib.figure.Figure at 0x7f940193fd68>"
      ]
     },
     "metadata": {},
     "output_type": "display_data"
    }
   ],
   "source": [
    "plt.plot(msd_data['time'], msd_data['msd'], lw=2, color=\"red\", label=\"MSD\")\n",
    "plt.plot(msd_data['time'], msd_data['xmsd'], lw=2, color=\"blue\", label=\"X-MSD\")\n",
    "plt.plot(msd_data['time'], msd_data['ymsd'], lw=2, color=\"green\", label=\"Y-MSD\")\n",
    "plt.plot(msd_data['time'], msd_data['zmsd'], lw=2, color=\"black\", label=\"Z-MSD\")\n",
    "\n",
    "plt.ylabel(\"MSD (\" r'$\\AA$' \")\", fontsize=15)\n",
    "plt.xlabel(\"Time / ps\", fontsize=15)\n",
    "plt.ylim(0, np.amax(msd_data['msd']))\n",
    "plt.xlim(0, np.amax(msd_data['time']))\n",
    "plt.legend(loc=2, frameon=False)\n",
    "plt.show()"
   ]
  },
  {
   "cell_type": "markdown",
   "metadata": {},
   "source": [
    "To calculate the gradient we need to perform a linear regression on the data. "
   ]
  },
  {
   "cell_type": "code",
   "execution_count": 5,
   "metadata": {},
   "outputs": [],
   "source": [
    "d, dintercept, dr_value, dp_value, dstd_err = stats.linregress(msd_data['time'], msd_data['msd'])"
   ]
  },
  {
   "cell_type": "markdown",
   "metadata": {},
   "source": [
    "The gradient is equal to 6D (6 = dimensionality). So our final diffusion coefficient for the simulation is given by"
   ]
  },
  {
   "cell_type": "code",
   "execution_count": 6,
   "metadata": {},
   "outputs": [
    {
     "name": "stdout",
     "output_type": "stream",
     "text": [
      "Diffusion Coefficient:  1.60607578934  X 10 ^-9 (m^-2)\n"
     ]
    }
   ],
   "source": [
    "diffusion_coefficient = (np.average(d) / 6) \n",
    "print(\"Diffusion Coefficient: \", diffusion_coefficient, \" X 10 ^-9 (m^-2)\")"
   ]
  }
 ],
 "metadata": {
  "kernelspec": {
   "display_name": "Python 3",
   "language": "python",
   "name": "python3"
  },
  "language_info": {
   "codemirror_mode": {
    "name": "ipython",
    "version": 3
   },
   "file_extension": ".py",
   "mimetype": "text/x-python",
   "name": "python",
   "nbconvert_exporter": "python",
   "pygments_lexer": "ipython3",
   "version": "3.6.1"
  }
 },
 "nbformat": 4,
 "nbformat_minor": 2
}
