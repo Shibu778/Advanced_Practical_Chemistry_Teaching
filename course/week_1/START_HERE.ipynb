{
 "cells": [
  {
   "cell_type": "markdown",
   "metadata": {},
   "source": [
    "# Advanced Chemistry Practical:\n",
    "## Computational Chemistry\n",
    "\n",
    "Welcome to the advanced chemistry pratical focusing on computational chemistry. Over the next four weeks you will: \n",
    "- gain a understanding of, and familiarity, with molecular dynamics simulations.\n",
    "- learn how molecular dynamics simulations are performed in practice.\n",
    "- use molecular dynamics simulations to study the solid state materials, such as batteries and solar cells. \n",
    "- rationalise the results of the molecular dynamics simulations in terms of physical chemistry you are familiar with. \n",
    "\n",
    "For more details about the learning objectives of this practical, checkout the [lesson plan](https://github.com/symmy596/Advanced_Practical_Chemistry_Teaching/blob/master/LESSONPLAN.md) online. "
   ]
  },
  {
   "cell_type": "code",
   "execution_count": null,
   "metadata": {
    "collapsed": true
   },
   "outputs": [],
   "source": []
  }
 ],
 "metadata": {
  "kernelspec": {
   "display_name": "Python 3",
   "language": "python",
   "name": "python3"
  },
  "language_info": {
   "codemirror_mode": {
    "name": "ipython",
    "version": 3
   },
   "file_extension": ".py",
   "mimetype": "text/x-python",
   "name": "python",
   "nbconvert_exporter": "python",
   "pygments_lexer": "ipython3",
   "version": "3.6.3"
  }
 },
 "nbformat": 4,
 "nbformat_minor": 2
}
