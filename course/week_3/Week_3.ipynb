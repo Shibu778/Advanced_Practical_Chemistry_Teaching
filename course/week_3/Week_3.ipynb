{
 "cells": [
  {
   "cell_type": "markdown",
   "metadata": {},
   "source": [
    "# Week 3 \n",
    "### Frenkel and Schottky Defects\n",
    "\n"
   ]
  },
  {
   "cell_type": "markdown",
   "metadata": {},
   "source": [
    "As an old pessimist once said, \"Nothings perfect\" and this statement holds true for materials. All materials contain defects and these defects often control the properties of the material. This week you will be investigating the effects of two structural defects on the transport properties of Ca$F_2$.\n",
    "The first is a Schottky defect. This is the removal of a formula unit of the material - leaving cation and anion vacancies. This is illustrated in a figure 1, which is a simple schematic of a schottky defect in rocksalt NaCl. "
   ]
  },
  {
   "cell_type": "markdown",
   "metadata": {},
   "source": [
    "<center>\n",
    "    <br>\n",
    "    <img src=\"./figures/Schottky.png\\\" width=\\\"400px\\\">\n",
    "    <i>Figure 1. A pictorial example of the Schottky defect.</i>\n",
    "    <br>\n",
    "</center>"
   ]
  },
  {
   "cell_type": "markdown",
   "metadata": {},
   "source": [
    "The second is a Frenkel defect, which occurs when a cation or anion settles outside of its lattice site within an interstitial site. This is illustrated in figure 2. "
   ]
  },
  {
   "cell_type": "markdown",
   "metadata": {},
   "source": [
    "<center>\n",
    "    <br>\n",
    "    <img src=\"./figures/Frenkel.png\\\" width=\\\"400px\\\">\n",
    "    <i>Figure 2. A pictorial example of the Frenkel defect.</i>\n",
    "    <br>\n",
    "</center>"
   ]
  },
  {
   "cell_type": "markdown",
   "metadata": {},
   "source": [
    "Now that you have the knowledge and skills to investigate the transport properties of Ca$F_2$, we would like to encourage you to design your own simulations to investigate how Schottky and Frenkel defects affect the transport in Ca$F_2$. For example\n",
    "- How do Frenkel/Schottky defects affect the diffusion of F?\n",
    "- How does increasing the concentration of Frenkel/Schottky defects affect the diffusion of F?\n",
    "- At what concentration of defect does the structure breakdown?\n",
    "- Has improving the transport properties had a negative impact on another property? e.g. Stability"
   ]
  },
  {
   "cell_type": "markdown",
   "metadata": {},
   "source": [
    "In order to add defects to the cell you have two choices, you can do it manually by editing the file or you can use the defect module. The module works in 3 steps   \n",
    "1) Read the input file  \n",
    "2) Add the defects  \n",
    "3) Output the new file  "
   ]
  },
  {
   "cell_type": "code",
   "execution_count": 1,
   "metadata": {},
   "outputs": [],
   "source": [
    "import numpy as np\n",
    "import defect as defect\n",
    "\n",
    "# Read the METADISE input\n",
    "data = defect.read(\"input.txt\")\n",
    "\n",
    "# Add a 10% concentration of Ca Frenkel defects to the data object\n",
    "new_data = defect.frenkel(data, 10, \"CA\")\n",
    "\n",
    "# Write new METADISE input file to a folder called Frenkel_10\n",
    "defect.write_output(new_data, \"Frenkel_10\")"
   ]
  },
  {
   "cell_type": "code",
   "execution_count": 2,
   "metadata": {
    "collapsed": true
   },
   "outputs": [],
   "source": [
    "# Read the METADISE input\n",
    "data = defect.read(\"input.txt\")\n",
    "\n",
    "# Add a 10% concentration of Scottky defects to the data object\n",
    "new_data = defect.schottky(data, 10)\n",
    "\n",
    "# Write new METADISE input file to a folder called Scottky_10\n",
    "defect.write_output(new_data, \"Schottky_10\")"
   ]
  },
  {
   "cell_type": "markdown",
   "metadata": {},
   "source": [
    "It is now up to you to decide what questions you want to answer, and then design a series of simulations that will allow you to answer this questions. "
   ]
  }
 ],
 "metadata": {
  "kernelspec": {
   "display_name": "Python 3",
   "language": "python",
   "name": "python3"
  },
  "language_info": {
   "codemirror_mode": {
    "name": "ipython",
    "version": 3
   },
   "file_extension": ".py",
   "mimetype": "text/x-python",
   "name": "python",
   "nbconvert_exporter": "python",
   "pygments_lexer": "ipython3",
   "version": "3.6.1"
  }
 },
 "nbformat": 4,
 "nbformat_minor": 2
}
